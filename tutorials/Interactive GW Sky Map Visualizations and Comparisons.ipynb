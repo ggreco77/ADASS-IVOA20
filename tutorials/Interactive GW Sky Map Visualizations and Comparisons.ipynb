{
 "cells": [
  {
   "cell_type": "markdown",
   "metadata": {},
   "source": [
    "# Gravitational-Wave Sky Localizations: Interactive Sky Map Visualizations  and Comparisons.\n",
    "\n",
    "\n",
    "The tutorial aims to show a practical approach for working with a Gravitational-Wave (GW) sky localization\n",
    "when the enclosed area within a given probability level contour, the credible region, is encoded with the [Multi-Order Coverage](http://ivoa.net/documents/MOC/) (MOC) map. MOC is an\n",
    "[IVOA](http://ivoa.net/) standard since 2015 and it is based on the [HEALPix](https://healpix.sourceforge.io/) tessellation of the sky.\n",
    " \n",
    "We will perform the following steps.\n",
    "\n",
    "1) Encode a credible regions of a GW sky localization with a MOC map.\n",
    "\n",
    "2) Synchronize comparison between the BAYESTAR and LALinference sky maps. \n",
    "\n",
    "3) Intersection area between BAYESTAR and LALinference sky maps. \n",
    "\n",
    "\n",
    "## Requirements\n",
    "The tutorial runs only in Python 3. For running it, install the following modules.\n",
    "\n",
    "\n",
    "[ligo.skymap](https://lscsoft.docs.ligo.org/ligo.skymap/) ≥ 0.4.0\n",
    "\n",
    "[mocpy](https://github.com/cds-astro/mocpy) ≥ 0.8.4\n",
    "\n",
    "[ipyaladin](https://github.com/cds-astro/ipyaladin)\n",
    "\n",
    "[astropy](https://www.astropy.org/) ≥ 3.1"
   ]
  },
  {
   "cell_type": "markdown",
   "metadata": {},
   "source": [
    "## 1. Encode a credible region contours of a GW sky localization with a MOC map\n",
    "We download the sky map from the [GraceDB](https://gracedb.ligo.org/) (Gravitational-Wave Candidate Event Database) under the section [Public Alert](https://gracedb.ligo.org/superevents/public/O3/). The Superevent  [S190814bv](https://gracedb.ligo.org/superevents/S190814bv/view/), confirmed as [GW190814](https://iopscience.iop.org/article/10.3847/2041-8213/ab960f), is chosen here. We select the [BAYESTAR sky map](https://gracedb.ligo.org/apiweb/superevents/S190814bv/files/bayestar.multiorder.fits,1) provided by the 3 interferometers: Virgo, LIGO Hanford and LIGO Livingston.\n",
    "The credible regions at the probability level contours of 90%, 50% and 10% will be created and visualized in an Aladin widget.\n",
    "\n",
    "We will use the [ligo-skymap-contour-moc](https://lscsoft.docs.ligo.org/ligo.skymap/tool/ligo_skymap_contour_moc.html) method implemented in [ligo.skymap](https://lscsoft.docs.ligo.org/ligo.skymap/). The method creates a contour for a credible level of an all-sky probability map. The input is a HEALPix FITS ([flatten or multi-resolution](https://emfollow.docs.ligo.org/userguide/tutorial/multiorder_skymaps.html)) probability map. The output is a Multi-Order Coverage (MOC) serialized in a FITS file."
   ]
  },
  {
   "cell_type": "code",
   "execution_count": 1,
   "metadata": {},
   "outputs": [],
   "source": [
    "# Download the sky map from GraceDB\n",
    "from astropy.utils.data import download_file\n",
    "\n",
    "gracedb_url_gw190814_bayestar_3ifo = ('https://gracedb.ligo.org/api/superevents/'\n",
    "                                      'S190814bv/files/bayestar.multiorder.fits')\n",
    "gw190814_bayestar_3ifo = download_file(gracedb_url_gw190814_bayestar_3ifo)"
   ]
  },
  {
   "cell_type": "code",
   "execution_count": 2,
   "metadata": {},
   "outputs": [],
   "source": [
    "# import the method \"ligo_skymap_contour_moc\" from \"ligo.skymap\"\n",
    "from ligo.skymap.tool.ligo_skymap_contour_moc import main\n",
    "\n",
    "# Define 3 credible regions at the probability level contours of 90% - 50% - 10%.\n",
    "contours = ['90', '50', '10']\n",
    "\n",
    "# Name the output files of these probability level contours.\n",
    "output_files = ['GW190814-BAYESTAR (90%)', 'GW190814-BAYESTAR (50%)', 'GW190814-BAYESTAR (10%)']\n",
    "\n",
    "# Create and save the credible regions files (.fits) encoded with MOC\n",
    "for contour, output_file in zip(contours, output_files):\n",
    "    main([gw190814_bayestar_3ifo, '--contour', contour, '--output', output_file])"
   ]
  },
  {
   "cell_type": "markdown",
   "metadata": {},
   "source": [
    "### 1.1 Interactive Sky Map Visualization: Aladin Widget\n",
    "\n",
    "An Aladin  widget is initialized at a defined target position with a DSS color survey background. Additional background images can be selected by the **Manage Layers**."
   ]
  },
  {
   "cell_type": "code",
   "execution_count": 3,
   "metadata": {},
   "outputs": [
    {
     "data": {
      "application/vnd.jupyter.widget-view+json": {
       "model_id": "92feac70101541ca83589a9c875e251f",
       "version_major": 2,
       "version_minor": 0
      },
      "text/plain": [
       "Aladin(fov=35.0, options=['allow_full_zoomout', 'coo_frame', 'fov', 'full_screen', 'log', 'overlay_survey', 'o…"
      ]
     },
     "metadata": {},
     "output_type": "display_data"
    }
   ],
   "source": [
    "# Initialize an Aladin widget at a defined sky's position and with the DSS color survey.\n",
    "import ipyaladin as ipyal\n",
    "\n",
    "aladin = ipyal.Aladin(target='16.91000 -28.1100', fov=35, survey='P/DSS2/color')\n",
    "aladin"
   ]
  },
  {
   "cell_type": "code",
   "execution_count": 4,
   "metadata": {},
   "outputs": [],
   "source": [
    "# Show the credible regions in the Aladin widget with 3 different colors.\n",
    "colors = [\"blue\", \"yellow\", \"red\"]\n",
    "\n",
    "for output_file, color in zip(output_files, colors):\n",
    "    aladin.add_moc_from_URL(output_file, {'color': color, 'opacity': 0.7,\n",
    "                            'adaptativeDisplay': False, 'name':output_file})"
   ]
  },
  {
   "cell_type": "markdown",
   "metadata": {},
   "source": [
    "Scroll up and visualize the credible region contours in the interactive Aladin widget. From the **Manage Layers**, the 3 credible regions can be independently selected. \n",
    "If you hover the mouse pointer over the credible region plan a message will be displayed above it to show the coverage in sky percentage."
   ]
  },
  {
   "cell_type": "markdown",
   "metadata": {},
   "source": [
    "## 2. Synchronized comparison between the BAYESTAR and LALinference sky maps.\n",
    "\n",
    "We synchronize 3 widgets to compare the 90% credible region contours between the BAYESTAR, LALinference\n",
    "and the final sky localization presented in LIGO and Virgo paper [GW190814: Gravitational Waves from the Coalescence of a 23 Solar Mass Black Hole with a 2.6 Solar Mass Compact Object](https://iopscience.iop.org/article/10.3847/2041-8213/ab960f)."
   ]
  },
  {
   "cell_type": "code",
   "execution_count": 5,
   "metadata": {},
   "outputs": [
    {
     "data": {
      "application/vnd.jupyter.widget-view+json": {
       "model_id": "5ae41e7f70344cfbbd362b4a1c7c01db",
       "version_major": 2,
       "version_minor": 0
      },
      "text/plain": [
       "Box(children=(Aladin(fov=30.0, layout=Layout(width='33%'), options=['allow_full_zoomout', 'coo_frame', 'fov', …"
      ]
     },
     "metadata": {},
     "output_type": "display_data"
    }
   ],
   "source": [
    "from ipyaladin import Aladin\n",
    "from ipywidgets import Layout, Box, widgets\n",
    "\n",
    "# Initialize the boxes\n",
    "left_box = Aladin(layout=Layout(width='33%'), target='17.3800 -29.1100', fov=30,survey='P/DSS2/color')\n",
    "middle_box = Aladin(layout=Layout(width='33%'))\n",
    "right_box = Aladin(layout=Layout(width='33%'))\n",
    "\n",
    "# Synchronize target between 3 widgets\n",
    "widgets.jslink((left_box, 'target'), (middle_box, 'target'))\n",
    "widgets.jslink((middle_box, 'target'), (right_box, 'target'))\n",
    "\n",
    "# Synchronize FoV (zoom level) between 2 widgets\n",
    "widgets.jslink((left_box, 'fov'), (middle_box, 'fov'))\n",
    "widgets.jslink((middle_box, 'fov'), (right_box, 'fov'))\n",
    "\n",
    "items = [left_box, middle_box, right_box]\n",
    "\n",
    "box_layout = Layout(display='flex',\n",
    "                    flex_flow='row',\n",
    "                    align_items='stretch',\n",
    "                    border='solid',\n",
    "                    width='100%')\n",
    "box = Box(children=items, layout=box_layout)\n",
    "box"
   ]
  },
  {
   "cell_type": "markdown",
   "metadata": {},
   "source": [
    "The 90% credible region contour of the BAYESTAR sky map is generated in the cells above. Here we download the LALinference and the last sky map from GraceDB and finally we generated the corrisponding 90% credible region for both."
   ]
  },
  {
   "cell_type": "code",
   "execution_count": 6,
   "metadata": {},
   "outputs": [],
   "source": [
    "# Download the LALinference sky map from the GraceDB URL\n",
    "gracedb_url_gw190814_lalinference = ('https://gracedb.ligo.org/api/superevents/'\n",
    "                                     'S190814bv/files/LALInference.v1.multiorder.fits,0')\n",
    "gw190814_lalinference = download_file(gracedb_url_gw190814_lalinference)\n",
    "\n",
    "# Create and save the credible regions .fits file encoded with MOC\n",
    "main([gw190814_lalinference, '--contour', '90', '--output', 'GW190814-LALinference (90%)'])"
   ]
  },
  {
   "cell_type": "code",
   "execution_count": 7,
   "metadata": {},
   "outputs": [],
   "source": [
    "# Download the final sky map presented in the LVC paper from the GraceDB URL \n",
    "gracedb_url_gw190814_phm = ('https://gracedb.ligo.org/api/superevents/'\n",
    "                            'S190814bv/files/GW190814_skymap.fits.gz,0')\n",
    "gw190814_phm = download_file(gracedb_url_gw190814_phm)\n",
    "\n",
    "# Create and save the credible regions .fits file encoded with MOC\n",
    "main([gw190814_phm, '--contour', '90', '--output', 'GW190814-PHM (90%)'])"
   ]
  },
  {
   "cell_type": "code",
   "execution_count": 8,
   "metadata": {},
   "outputs": [],
   "source": [
    "# Show the bayestar sky map (90% credible region)\n",
    "left_box.add_moc_from_URL('GW190814-BAYESTAR (90%)', {'color': 'blue', 'opacity': 0.8, \n",
    "                                      'adaptativeDisplay': False, 'name': 'GW190814-BAYESTAR (90%)' })\n",
    "\n",
    "# Show the lalinference sky map (90% credible region)\n",
    "middle_box.add_moc_from_URL('GW190814-LALinference (90%)', {'color': 'orange', 'opacity': 0.8, \n",
    "                                      'adaptativeDisplay': False, 'name': 'GW190814-LALinference (90%)' })\n",
    "\n",
    "# Show lalinference and bayestar overlapped\n",
    "right_box.add_moc_from_URL('GW190814-PHM (90%)', {'color': 'magenta', 'opacity': 0.8, \n",
    "                                      'adaptativeDisplay': False, 'name': 'GW190814-PHM (90%)' })"
   ]
  },
  {
   "cell_type": "markdown",
   "metadata": {},
   "source": [
    "Now we measure the corrisponding areas in square degrees."
   ]
  },
  {
   "cell_type": "code",
   "execution_count": 9,
   "metadata": {},
   "outputs": [
    {
     "data": {
      "text/plain": [
       "'0.8.4'"
      ]
     },
     "execution_count": 9,
     "metadata": {},
     "output_type": "execute_result"
    }
   ],
   "source": [
    "# Import mocpy and check the version\n",
    "import mocpy\n",
    "from mocpy import MOC\n",
    "mocpy.__version__"
   ]
  },
  {
   "cell_type": "code",
   "execution_count": 10,
   "metadata": {},
   "outputs": [
    {
     "name": "stdout",
     "output_type": "stream",
     "text": [
      "The 90% area covered by the BAYESTAR 90% credible region is 37.6 deg^2\n",
      "The 90% area covered by the LALinference 90% credible region is 23.1 deg^2\n",
      "The 90% area covered by the final sky map (PHM) 90% credible region is 18.5 deg^2\n"
     ]
    }
   ],
   "source": [
    "# square degrees in a whole sphere\n",
    "from math import pi\n",
    "square_degrees_sphere = (360.0**2)/pi\n",
    "\n",
    "# Load and measure BAYESTAR sky coverage 90 c.r.\n",
    "gw190814_bayestar_90 = MOC.from_fits(\"GW190814-BAYESTAR (90%)\")\n",
    "\n",
    "sky_fraction_bayestar = gw190814_bayestar_90.sky_fraction\n",
    "print(\"The 90% area covered by the BAYESTAR 90% credible region is\", \n",
    "      round(sky_fraction_bayestar * square_degrees_sphere, 1), 'deg^2')\n",
    "\n",
    "# Load and measure LALinference sky coverage 90% c.r.\n",
    "gw190814_lalinference_90 = MOC.from_fits(\"GW190814-LALinference (90%)\")\n",
    "\n",
    "sky_fraction_lalinference = gw190814_lalinference_90.sky_fraction\n",
    "print(\"The 90% area covered by the LALinference 90% credible region is\", \n",
    "      round(sky_fraction_lalinference * square_degrees_sphere, 1), 'deg^2')\n",
    "\n",
    "# Load and measure the final sky coverage 90% c.r.\n",
    "gw190814_phm_90 = MOC.from_fits(\"GW190814-PHM (90%)\")\n",
    "\n",
    "sky_fraction_phm = gw190814_phm_90.sky_fraction\n",
    "print(\"The 90% area covered by the final sky map (PHM) 90% credible region is\", \n",
    "      round(sky_fraction_phm * square_degrees_sphere, 1),'deg^2')"
   ]
  },
  {
   "cell_type": "markdown",
   "metadata": {},
   "source": [
    "## 2.1 Overlap Visualization\n",
    "\n",
    "We display the 3 sky maps in a single Aladin widget. From the **Manage Layers**, the credible regions of the 3 sky localizations (90% probability area) can be independently selected. "
   ]
  },
  {
   "cell_type": "code",
   "execution_count": 11,
   "metadata": {},
   "outputs": [
    {
     "data": {
      "application/vnd.jupyter.widget-view+json": {
       "model_id": "8cc4fa3245a54847bddee1ae8205cb42",
       "version_major": 2,
       "version_minor": 0
      },
      "text/plain": [
       "Aladin(fov=50.0, options=['allow_full_zoomout', 'coo_frame', 'fov', 'full_screen', 'log', 'overlay_survey', 'o…"
      ]
     },
     "metadata": {},
     "output_type": "display_data"
    }
   ],
   "source": [
    "# Initialize the Aladin widget at a defined sky's position and with the DSS color survey.\n",
    "import ipyaladin as ipyal\n",
    "\n",
    "aladin = ipyal.Aladin(target='16.91000 -28.1100', fov=50, survey='P/DSS2/color')\n",
    "aladin"
   ]
  },
  {
   "cell_type": "code",
   "execution_count": 12,
   "metadata": {},
   "outputs": [],
   "source": [
    "# Show the credible regions for the 3 sky maps in the Aladin widget.\n",
    "colors = [\"blue\", \"orange\", \"magenta\"]\n",
    "\n",
    "credible_regions = ['GW190814-BAYESTAR (90%)', 'GW190814-LALinference (90%)', \n",
    "                    'GW190814-PHM (90%)']\n",
    "\n",
    "for credible_region, color in zip(credible_regions, colors):\n",
    "    aladin.add_moc_from_URL(credible_region, {'color': color, 'opacity': 0.9,\n",
    "                            'adaptativeDisplay': False, 'name':credible_region})"
   ]
  },
  {
   "cell_type": "markdown",
   "metadata": {},
   "source": [
    "## 3 Intersection Area\n",
    "\n",
    "Finally we measure the intersection area between the BAYESTAR and LALinference sky maps at the 90% credible regions.\n",
    "A new MOC file (.fits) is created named *bayestar_lalinference_intersection* and it is displayed in the last initialated Aladin widget."
   ]
  },
  {
   "cell_type": "code",
   "execution_count": 13,
   "metadata": {},
   "outputs": [],
   "source": [
    "# Intersection between BAYESTAR and LALinference sky maps (90% credible regions)\n",
    "bayestar_lalinference_intersection = gw190814_bayestar_90.intersection(gw190814_lalinference_90)\n",
    "\n",
    "# Write the MOC .fits file\n",
    "bayestar_lalinference_intersection.write(\"bayestar_lalinference_intersection\", \n",
    "                                         overwrite=True, format='fits')"
   ]
  },
  {
   "cell_type": "code",
   "execution_count": 14,
   "metadata": {},
   "outputs": [
    {
     "name": "stdout",
     "output_type": "stream",
     "text": [
      "The intersection area between the BAYESTAR and the LALinference sky maps is 23.1 deg^2\n"
     ]
    }
   ],
   "source": [
    "# Load, measure and print the intersection between BAYESTAR and LALinference sky maps\n",
    "bayestar_lalinference_intersection = MOC.from_fits(\"bayestar_lalinference_intersection\")\n",
    "\n",
    "sky_fraction_int = bayestar_lalinference_intersection.sky_fraction\n",
    "\n",
    "print(\"The intersection area between the BAYESTAR and the LALinference sky maps is\", \n",
    "      round(sky_fraction_int * square_degrees_sphere, 1), 'deg^2')"
   ]
  },
  {
   "cell_type": "code",
   "execution_count": 15,
   "metadata": {},
   "outputs": [],
   "source": [
    "# Visualize the intersection region in the last Aladin widget\n",
    "aladin.add_moc_from_URL('bayestar_lalinference_intersection', {'color': 'yellow', 'opacity': 0.9,\n",
    "                                                               'adaptativeDisplay': False, \n",
    "                                                               'name':'bayestar_lalinference_intersection'})"
   ]
  },
  {
   "cell_type": "markdown",
   "metadata": {},
   "source": [
    "That intersection region can be indipendently selected from the **Manage Layers**.\n",
    "\n"
   ]
  }
 ],
 "metadata": {
  "kernelspec": {
   "display_name": "Python 3",
   "language": "python",
   "name": "python3"
  },
  "language_info": {
   "codemirror_mode": {
    "name": "ipython",
    "version": 3
   },
   "file_extension": ".py",
   "mimetype": "text/x-python",
   "name": "python",
   "nbconvert_exporter": "python",
   "pygments_lexer": "ipython3",
   "version": "3.6.9"
  }
 },
 "nbformat": 4,
 "nbformat_minor": 2
}
